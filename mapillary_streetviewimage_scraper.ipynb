{
  "nbformat": 4,
  "nbformat_minor": 0,
  "metadata": {
    "colab": {
      "provenance": [],
      "authorship_tag": "ABX9TyOfcgQBpD4Xi7dS+EwzHoAB",
      "include_colab_link": true
    },
    "kernelspec": {
      "name": "python3",
      "display_name": "Python 3"
    },
    "language_info": {
      "name": "python"
    }
  },
  "cells": [
    {
      "cell_type": "markdown",
      "metadata": {
        "id": "view-in-github",
        "colab_type": "text"
      },
      "source": [
        "<a href=\"https://colab.research.google.com/github/AditPradana36/mapillary_streetviewimage_scraper/blob/main/mapillary_streetviewimage_scraper.ipynb\" target=\"_parent\"><img src=\"https://colab.research.google.com/assets/colab-badge.svg\" alt=\"Open In Colab\"/></a>"
      ]
    },
    {
      "cell_type": "markdown",
      "source": [
        "# 🛰️ Mapillary Image Scraper\n",
        "\n",
        "This notebook lets you fetch **Mapillary street-level images** by point coordinates using three different methods:\n",
        "1. 📸 The **newest image** per coordinate\n",
        "2. 📅 Filter by a **specific year**\n",
        "3. 🔁 Filter by a **range of years**\n",
        "\n",
        "---\n",
        "\n",
        "### 🎯 Goals:\n",
        "- To **retrieve at least one representative image per location**\n",
        "- To enable **temporal comparison** of urban environments using year-based filters\n",
        "- To support spatial analysis or visual datasets for GIS and urban research\n",
        "\n",
        "---\n",
        "\n",
        "### 🔧 What You Need:\n",
        "- A **Mapillary access token**, which you can obtain by signing up at [mapillary.com](https://www.mapillary.com/).\n",
        "- An **Excel file (.xlsx)** with three required columns:\n",
        "  - `ID`: unique identifier\n",
        "  - `X`: longitude\n",
        "  - `Y`: latitude\n",
        "\n",
        "✅ You can either:\n",
        "- Upload the file manually into Google Colab\n",
        "- Or access it from your Google Drive (e.g. `/content/drive/MyDrive/foldername/filename.xlsx`)\n",
        "\n",
        "---\n",
        "\n",
        "### 📁 Sample Excel Format\n",
        "\n",
        "| ID | X             | Y            |\n",
        "|----|------------------|-----------------|\n",
        "| 1  | 106.9023591000    | -6.3759857000   |\n",
        "| 2  | 106.8292590000    | -6.3672050000   |\n",
        "| 3  | 106.8293310000    | -6.3659200000   |\n",
        "| 4  | 106.8340730000    | -6.3673730000   |\n",
        "| 5  | 106.8339340000    | -6.3656490000   |\n",
        "| 6  | 106.8321280000    | -6.3667600000   |\n",
        "| ...| ...               | ...             |\n",
        "\n",
        "> ℹ️ Save the file as `.xlsx` and refer to it using the `input_excel_path` parameter in the next cell.\n",
        "\n",
        "---\n",
        "\n",
        "*By Mohammad Raditia Pradana, 2025*\n"
      ],
      "metadata": {
        "id": "Iw8TqNUwtsNu"
      }
    },
    {
      "cell_type": "markdown",
      "source": [
        "## 📦 Requirements & Dependencies\n",
        "\n",
        "Before using this notebook, make sure all the necessary Python packages are installed and imported."
      ],
      "metadata": {
        "id": "PLWKOxW_u0aD"
      }
    },
    {
      "cell_type": "code",
      "source": [
        "# ✅ Install if not yet available\n",
        "!pip install mercantile mapbox-vector-tile vt2geojson openpyxl requests\n",
        "\n",
        "# 📚 Imports\n",
        "import mercantile, requests, json, os, math\n",
        "from vt2geojson.tools import vt_bytes_to_geojson\n",
        "import pandas as pd\n",
        "from google.colab import drive"
      ],
      "metadata": {
        "id": "vSDqNOOfdLn2"
      },
      "execution_count": null,
      "outputs": []
    },
    {
      "cell_type": "code",
      "source": [
        "# Define the vector tile endpoints\n",
        "tile_coverage = 'mly1_public'\n",
        "tile_layer = \"image\""
      ],
      "metadata": {
        "id": "wWzuDO1BqLYT"
      },
      "execution_count": 15,
      "outputs": []
    },
    {
      "cell_type": "markdown",
      "source": [
        "## 💾 Optional: Mount Google Drive\n",
        "\n",
        "If your Excel file is stored in **Google Drive** or you want to **save the downloaded images and metadata** directly to a Drive folder, you need to mount your Google Drive.\n",
        "\n",
        "> ✅ Skip this step if you're uploading files manually via the Colab file browser or only saving to `/content/`.\n"
      ],
      "metadata": {
        "id": "drPoyyHWvQDr"
      }
    },
    {
      "cell_type": "code",
      "source": [
        "from google.colab import drive\n",
        "drive.mount('/content/drive')\n"
      ],
      "metadata": {
        "id": "gN12jzIpdNqC"
      },
      "execution_count": null,
      "outputs": []
    },
    {
      "cell_type": "markdown",
      "source": [
        "## 🔧 User Input Parameters\n",
        "\n",
        "Fill in the form fields below to set the required parameters for scraping Mapillary imagery.\n",
        "\n",
        "### Required Parameters:\n",
        "- **access_token**: Your Mapillary API access token (starts with `MLY|...`)\n",
        "- **input_excel_path**: Filepath to your `.xlsx` file containing coordinates  \n",
        "  👉 Format: must contain columns `ID`, `X` (longitude), and `Y` (latitude)  \n",
        "  📌 You can upload the file manually or access it from Google Drive.\n",
        "- **output_dir**: Folder where downloaded images and metadata will be saved  \n",
        "  (e.g., `/content/` for local Colab or `/content/drive/MyDrive/...` for Google Drive)"
      ],
      "metadata": {
        "id": "ozKtckuEvYoc"
      }
    },
    {
      "cell_type": "code",
      "execution_count": null,
      "metadata": {
        "cellView": "form",
        "id": "5qz17uUqc1d9"
      },
      "outputs": [],
      "source": [
        "# =========================================================\n",
        "# 🔧 USER INPUT SECTION — Customize these parameters below\n",
        "# =========================================================\n",
        "\n",
        "access_token = \"your_mapillary_token\"  #@param {type:\"string\"}\n",
        "input_excel_path = \"/content/your_file.xlsx\"  #@param {type:\"string\"}\n",
        "output_dir = \"/content/\"  #@param {type:\"string\"}\n",
        "\n",
        "\n",
        "\n",
        "print(\"📥 Access Token:\", access_token)\n",
        "print(\"📄 Input File:\", input_excel_path)\n",
        "print(\"📂 Output Folder:\", output_dir)\n"
      ]
    },
    {
      "cell_type": "markdown",
      "source": [
        "## 📍 Search Radius (Buffer in Meters)\n",
        "\n",
        "This section loads the Excel file and defines the **search radius** for finding nearby Mapillary images.\n",
        "\n",
        "- **`buffer_meters`** determines how far around each point (in meters) the script will look for images.\n",
        "\n",
        "\n",
        "> 🔔 **The larger the buffer, the longer the process will take**, especially for areas with lots of image tiles.\n",
        "\n",
        ">💡 If you're working with urban areas, a buffer of **10–20 meters** is usually sufficient."
      ],
      "metadata": {
        "id": "mYTrCdEUv7wz"
      }
    },
    {
      "cell_type": "code",
      "source": [
        "# Load Excel\n",
        "df = pd.read_excel(input_excel_path)\n",
        "buffer_meters = 10  #@param {type:\"number\"}\n",
        "\n",
        "import math  # Make sure math is imported\n",
        "\n",
        "def create_bbox(lon, lat):\n",
        "    lat_conversion = buffer_meters / 111000\n",
        "    lon_conversion = buffer_meters / (111000 * math.cos(math.radians(lat)))\n",
        "    return [lon - lon_conversion, lat - lat_conversion, lon + lon_conversion, lat + lat_conversion]"
      ],
      "metadata": {
        "cellView": "form",
        "id": "FGWrjgWFeJG1"
      },
      "execution_count": 13,
      "outputs": []
    },
    {
      "cell_type": "markdown",
      "source": [
        "\n",
        "\n",
        "---\n",
        "\n"
      ],
      "metadata": {
        "id": "4POALO6Dyu4q"
      }
    },
    {
      "cell_type": "markdown",
      "source": [
        "## 📸 Section 1 — Newest Image Crawling per Point\n",
        "\n",
        "This section performs **automated crawling** to retrieve the **most recent Mapillary image** around each coordinate point from your Excel file.\n",
        "\n",
        "### 🔍 How it works:\n",
        "- Searches within the **buffer distance** (in meters) defined earlier\n",
        "- Finds and downloads the **newest available image** per location\n",
        "- Uses the Mapillary vector tile API and image metadata API\n",
        "\n",
        "### 💾 Output:\n",
        "- Each image is saved to `{output_dir}/Photo_NEWEST_{ID}.jpg`\n",
        "- Metadata (ID, lat/lon, capture date) is saved to:\n"
      ],
      "metadata": {
        "id": "PCHKMENzwqRc"
      }
    },
    {
      "cell_type": "code",
      "source": [
        "metadata_list = []\n",
        "\n",
        "for index, row in df.iterrows():\n",
        "    ID = row['ID']\n",
        "    lon = row['X']\n",
        "    lat = row['Y']\n",
        "    image_url, captured_at, actual_lat, actual_lon = None, None, None, None\n",
        "\n",
        "    west, south, east, north = create_bbox(lon, lat)\n",
        "    tiles = list(mercantile.tiles(west, south, east, north, 14))\n",
        "\n",
        "    newest_image, newest_date = None, None\n",
        "\n",
        "    for tile in tiles:\n",
        "        tile_url = f'https://tiles.mapillary.com/maps/vtp/{tile_coverage}/2/{tile.z}/{tile.x}/{tile.y}?access_token={access_token}'\n",
        "        response = requests.get(tile_url)\n",
        "        data = vt_bytes_to_geojson(response.content, tile.x, tile.y, tile.z, layer=tile_layer)\n",
        "\n",
        "        for feature in data['features']:\n",
        "            lng, lat_tmp = feature['geometry']['coordinates']\n",
        "            if west < lng < east and south < lat_tmp < north:\n",
        "                image_id = feature['properties']['id']\n",
        "                header = {'Authorization': f'OAuth {access_token}'}\n",
        "                url = f'https://graph.mapillary.com/{image_id}?fields=thumb_2048_url,captured_at'\n",
        "                r = requests.get(url, headers=header)\n",
        "\n",
        "                if r.status_code == 200:\n",
        "                    data = r.json()\n",
        "                    image_url_tmp = data.get('thumb_2048_url')\n",
        "                    captured_at_tmp = data.get('captured_at')\n",
        "\n",
        "                    if image_url_tmp and captured_at_tmp and (newest_date is None or captured_at_tmp > newest_date):\n",
        "                        newest_image = image_url_tmp\n",
        "                        newest_date = captured_at_tmp\n",
        "                        actual_lat = lat_tmp\n",
        "                        actual_lon = lng\n",
        "\n",
        "    if newest_image:\n",
        "        img_path = os.path.join(output_dir, f'Photo_NEWEST_{ID}.jpg')\n",
        "        img_data = requests.get(newest_image).content\n",
        "        with open(img_path, 'wb') as handler:\n",
        "            handler.write(img_data)\n",
        "        print(f\"✅ Saved image for {ID}\")\n",
        "    else:\n",
        "        print(f\"⚠️ No image found for ID {ID}\")\n",
        "\n",
        "    metadata_list.append({\n",
        "        'id': ID,\n",
        "        'lat': actual_lat if actual_lat else lat,\n",
        "        'long': actual_lon if actual_lon else lon,\n",
        "        'date': newest_date\n",
        "    })\n",
        "\n",
        "# Save metadata\n",
        "df_result = pd.DataFrame(metadata_list)\n",
        "df_result['date'] = pd.to_datetime(df_result['date'], unit='ms', errors='coerce')\n",
        "df_result.to_excel(os.path.join(output_dir, \"mapillary_metadata_newest.xlsx\"), index=False)\n"
      ],
      "metadata": {
        "id": "pkokdH_eeuX3"
      },
      "execution_count": null,
      "outputs": []
    },
    {
      "cell_type": "markdown",
      "source": [
        "\n",
        "\n",
        "---\n",
        "\n"
      ],
      "metadata": {
        "id": "hJXXWe34yrKO"
      }
    },
    {
      "cell_type": "markdown",
      "source": [
        "## 📅 Section 2 — Filter by Single Year\n",
        "\n",
        "This section allows you to **retrieve Mapillary images captured in a specific year** for each point.\n",
        "\n",
        "### 🎯 Goal:\n",
        "- To get **one image per coordinate** that was captured in the **target year**\n",
        "- This is useful when you need to analyze data from a **specific period**\n",
        "\n",
        "### 🧩 How it works:\n",
        "- Searches within the same **buffer distance** (defined earlier)\n",
        "- Loops through nearby tiles and filters images **by year**\n",
        "- Selects the **latest image** from that year (if available)\n",
        "\n",
        "### 📥 Input:\n",
        "- `target_year`: set the desired year (e.g. `2022`)\n",
        "\n",
        "### 💾 Output:\n",
        "- Images are saved to `{output_dir}/Photo_{ID}_{target_year}.jpg`\n",
        "- Metadata is saved to: `{output_dir}/mapillary_filtered_{target_year}.xlsx`\n",
        "\n",
        "\n",
        "> ⚠️ If no image is found in the selected year for a location, it will be skipped.\n"
      ],
      "metadata": {
        "id": "dplcnED3xLu8"
      }
    },
    {
      "cell_type": "code",
      "source": [
        "\n",
        "target_year = 2022  #@param {type:\"number\"}\n",
        "metadata_list = []\n",
        "\n",
        "for index, row in df.iterrows():\n",
        "    ID = row['ID']\n",
        "    lon = row['X']\n",
        "    lat = row['Y']\n",
        "    west, south, east, north = create_bbox(lon, lat)\n",
        "\n",
        "    tiles = list(mercantile.tiles(west, south, east, north, 14))\n",
        "    best_image, best_date = None, None\n",
        "\n",
        "    for tile in tiles:\n",
        "        tile_url = f'https://tiles.mapillary.com/maps/vtp/{tile_coverage}/2/{tile.z}/{tile.x}/{tile.y}?access_token={access_token}'\n",
        "        r = requests.get(tile_url)\n",
        "        data = vt_bytes_to_geojson(r.content, tile.x, tile.y, tile.z, layer=tile_layer)\n",
        "\n",
        "        for feat in data['features']:\n",
        "            lng, lat_tmp = feat['geometry']['coordinates']\n",
        "            if west < lng < east and south < lat_tmp < north:\n",
        "                image_id = feat['properties']['id']\n",
        "                api_url = f'https://graph.mapillary.com/{image_id}?fields=thumb_2048_url,captured_at'\n",
        "                headers = {'Authorization': f'OAuth {access_token}'}\n",
        "                resp = requests.get(api_url, headers=headers)\n",
        "\n",
        "                if resp.status_code == 200:\n",
        "                    meta = resp.json()\n",
        "                    ts = pd.to_datetime(meta.get('captured_at', None), unit='ms', errors='coerce')\n",
        "                    if pd.notna(ts) and ts.year == target_year:\n",
        "                        if best_date is None or ts > best_date:\n",
        "                            best_image = {\n",
        "                                'id': image_id,\n",
        "                                'lat': lat_tmp,\n",
        "                                'long': lng,\n",
        "                                'date': ts,\n",
        "                                'image_url': meta['thumb_2048_url']\n",
        "                            }\n",
        "                            best_date = ts\n",
        "\n",
        "    if best_image:\n",
        "        img_path = os.path.join(output_dir, f'Photo_{ID}_{target_year}.jpg')\n",
        "        with open(img_path, 'wb') as f:\n",
        "            f.write(requests.get(best_image['image_url']).content)\n",
        "        print(f\"✅ Saved {ID}\")\n",
        "        metadata_list.append({\n",
        "            'id': ID,\n",
        "            'lat': best_image['lat'],\n",
        "            'long': best_image['long'],\n",
        "            'date': best_image['date']\n",
        "        })\n",
        "    else:\n",
        "        print(f\"⚠️ No image found for {ID} in year {target_year}\")\n",
        "\n",
        "df_result = pd.DataFrame(metadata_list)\n",
        "df_result.to_excel(os.path.join(output_dir, f\"mapillary_filtered_{target_year}.xlsx\"), index=False)\n"
      ],
      "metadata": {
        "cellView": "form",
        "id": "UY2t9EyOe38O"
      },
      "execution_count": null,
      "outputs": []
    },
    {
      "cell_type": "markdown",
      "source": [
        "\n",
        "\n",
        "---\n",
        "\n"
      ],
      "metadata": {
        "id": "qbIlURLZywnP"
      }
    },
    {
      "cell_type": "markdown",
      "source": [
        "## 🔁 Section 3 — Filter by Range of Years\n",
        "\n",
        "This section lets you retrieve **the most recent image** captured **within a specified year range** for each coordinate point.\n",
        "\n",
        "### 🎯 Goal:\n",
        "- To get 1 image per point that was captured in **any year between `year_start` and `year_end`**\n",
        "- This is helpful for broader temporal analysis (e.g., images from the past 3 years)\n",
        "\n",
        "### 🧩 How it works:\n",
        "- Uses the same buffer-based bounding box as before\n",
        "- Searches Mapillary tiles and filters images by the **year range**\n",
        "- If multiple images are found in the range, the most recent one is selected\n",
        "\n",
        "### 📥 Input:\n",
        "- `year_start`: beginning year (e.g. 2021)\n",
        "- `year_end`: ending year (e.g. 2023)\n",
        "\n",
        "### 💾 Output:\n",
        "- Images are saved to `{output_dir}/Photo_{ID}_{best_image[\"date\"].year}.jpg`\n",
        "- Metadata is saved to: `{output_dir}/mapillary_filtered_{year_start}_{year_end}.xlsx`\n",
        "\n",
        "> ⚠️ If no image is found in the year range for a point, that entry will be skipped.\n"
      ],
      "metadata": {
        "id": "DuDk_d5Tx6zC"
      }
    },
    {
      "cell_type": "code",
      "source": [
        "year_start = 2021  #@param {type:\"number\"}\n",
        "year_end = 2023  #@param {type:\"number\"}\n",
        "target_years = range(year_start, year_end + 1)\n",
        "\n",
        "metadata_list = []\n",
        "\n",
        "for index, row in df.iterrows():\n",
        "    ID = row['ID']\n",
        "    lon = row['X']\n",
        "    lat = row['Y']\n",
        "    west, south, east, north = create_bbox(lon, lat)\n",
        "\n",
        "    tiles = list(mercantile.tiles(west, south, east, north, 14))\n",
        "    best_image, best_date = None, None\n",
        "\n",
        "    for tile in tiles:\n",
        "        tile_url = f'https://tiles.mapillary.com/maps/vtp/{tile_coverage}/2/{tile.z}/{tile.x}/{tile.y}?access_token={access_token}'\n",
        "        r = requests.get(tile_url)\n",
        "        data = vt_bytes_to_geojson(r.content, tile.x, tile.y, tile.z, layer=tile_layer)\n",
        "\n",
        "        for feat in data['features']:\n",
        "            lng, lat_tmp = feat['geometry']['coordinates']\n",
        "            if west < lng < east and south < lat_tmp < north:\n",
        "                image_id = feat['properties']['id']\n",
        "                api_url = f'https://graph.mapillary.com/{image_id}?fields=thumb_2048_url,captured_at'\n",
        "                headers = {'Authorization': f'OAuth {access_token}'}\n",
        "                resp = requests.get(api_url, headers=headers)\n",
        "\n",
        "                if resp.status_code == 200:\n",
        "                    meta = resp.json()\n",
        "                    ts = pd.to_datetime(meta.get('captured_at', None), unit='ms', errors='coerce')\n",
        "                    if pd.notna(ts) and ts.year in target_years:\n",
        "                        if best_date is None or ts > best_date:\n",
        "                            best_image = {\n",
        "                                'id': image_id,\n",
        "                                'lat': lat_tmp,\n",
        "                                'long': lng,\n",
        "                                'date': ts,\n",
        "                                'image_url': meta['thumb_2048_url']\n",
        "                            }\n",
        "                            best_date = ts\n",
        "\n",
        "    if best_image:\n",
        "        img_path = os.path.join(output_dir, f'Photo_{ID}_{best_image[\"date\"].year}.jpg')\n",
        "        with open(img_path, 'wb') as f:\n",
        "            f.write(requests.get(best_image['image_url']).content)\n",
        "        print(f\"✅ Saved image for {ID}\")\n",
        "        metadata_list.append({\n",
        "            'id': ID,\n",
        "            'lat': best_image['lat'],\n",
        "            'long': best_image['long'],\n",
        "            'date': best_image['date']\n",
        "        })\n",
        "    else:\n",
        "        print(f\"⚠️ No image found for ID {ID} in years {list(target_years)}\")\n",
        "\n",
        "df_result = pd.DataFrame(metadata_list)\n",
        "df_result.to_excel(os.path.join(output_dir, f\"mapillary_filtered_{year_start}_{year_end}.xlsx\"), index=False)\n"
      ],
      "metadata": {
        "cellView": "form",
        "id": "2yCRHZobe8St"
      },
      "execution_count": null,
      "outputs": []
    }
  ]
}